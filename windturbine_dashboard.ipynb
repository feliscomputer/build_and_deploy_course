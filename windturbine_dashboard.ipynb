{
 "cells": [
  {
   "cell_type": "code",
   "execution_count": null,
   "id": "29ffa990-110f-464e-8791-8a0d8b941ef4",
   "metadata": {},
   "outputs": [],
   "source": [
    "import holoviews as hv\n",
    "import hvplot.pandas\n",
    "import intake\n",
    "import panel as pn\n",
    "\n",
    "hv.streams.PlotSize.scale = 0.2\n",
    "\n",
    "pn.extension('tabulator', design='material', template='material', theme='dark')"
   ]
  },
  {
   "cell_type": "code",
   "execution_count": null,
   "id": "ffaa6f85-48ed-4f5f-a17c-a45edbda3459",
   "metadata": {},
   "outputs": [],
   "source": [
    "cat = intake.open_anaconda_catalog('examples')['uswtdb']\n",
    "\n",
    "df = pn.state.as_cached('windturbines', cat.wind_turbines.read)\n",
    "\n",
    "df['x'], df['y'] = hv.element.tiles.lon_lat_to_easting_northing(df.xlong, df.ylat)\n",
    "\n",
    "df.head()"
   ]
  },
  {
   "cell_type": "code",
   "execution_count": null,
   "id": "c634b296-cf86-4334-914b-0c6714789570",
   "metadata": {},
   "outputs": [],
   "source": [
    "ls = hv.link_selections.instance()\n",
    "\n",
    "plot = df.hvplot.points('x', 'y', rasterize=True, cmap='viridis', cnorm='eq_hist', xaxis=None, yaxis=None, tiles='CartoDark', responsive=True, min_height=500)\n",
    "\n",
    "plot_ls = ls(plot)\n",
    "\n",
    "plot_ls"
   ]
  },
  {
   "cell_type": "code",
   "execution_count": null,
   "id": "c393cb01-6e7d-4526-9e4f-785d4f1222b4",
   "metadata": {},
   "outputs": [],
   "source": [
    "df_sel = ls.selection_param(df)\n",
    "\n",
    "dfi_sel = hvplot.bind(lambda df: df, df_sel).interactive()[['t_state', 't_county', 't_manu', 'p_year', 'p_name', 'p_cap']]\n",
    "\n",
    "table = pn.widgets.Tabulator(dfi_sel, pagination='remote', page_size=10, sizing_mode='stretch_width', show_index=True)\n",
    "\n",
    "table"
   ]
  },
  {
   "cell_type": "code",
   "execution_count": null,
   "id": "d903f7b5-7a7a-4cd3-af42-d05c4426e9c1",
   "metadata": {},
   "outputs": [],
   "source": [
    "groupby = pn.widgets.RadioButtonGroup(options=['p_year', 't_state', 't_manu'])\n",
    "topn = pn.widgets.IntSlider(start=5, end=50, name='Top N')\n",
    "\n",
    "agg_bar_plot = dfi_sel.groupby(groupby)[['p_cap']].sum().sort_values('p_cap', ascending=False).iloc[:topn].hvplot.bar(rot=45)\n",
    "\n",
    "agg_bar_plot"
   ]
  },
  {
   "cell_type": "code",
   "execution_count": null,
   "id": "99f9e517-0fed-4fd7-8838-8320e5ae39d8",
   "metadata": {},
   "outputs": [],
   "source": [
    "pn.Column(\n",
    "    plot_ls,\n",
    "    pn.Row(\n",
    "        table, agg_bar_plot\n",
    "    )\n",
    ").servable(title='Windturbine Dashboard')"
   ]
  }
 ],
 "metadata": {
  "kernelspec": {
   "display_name": "anaconda-panel-2023.05-py310",
   "language": "python",
   "name": "conda-env-anaconda-panel-2023.05-py310-py"
  },
  "language_info": {
   "codemirror_mode": {
    "name": "ipython",
    "version": 3
   },
   "file_extension": ".py",
   "mimetype": "text/x-python",
   "name": "python",
   "nbconvert_exporter": "python",
   "pygments_lexer": "ipython3",
   "version": "3.11.3"
  }
 },
 "nbformat": 4,
 "nbformat_minor": 5
}
